{
  "cells": [
    {
      "cell_type": "markdown",
      "metadata": {
        "id": "HPDianKXScEp"
      },
      "source": [
        "# Implementação da rede neural CNN"
      ]
    },
    {
      "cell_type": "markdown",
      "source": [
        "Nome: Saulo de Moura Zandona Freitas"
      ],
      "metadata": {
        "id": "Qn-9vdHkS2h3"
      }
    },
    {
      "cell_type": "markdown",
      "source": [
        "## Importar bibliotecas"
      ],
      "metadata": {
        "id": "Xw5fcRIvS6f0"
      }
    },
    {
      "cell_type": "code",
      "source": [],
      "metadata": {
        "id": "mNp0PUWaSdeY"
      },
      "execution_count": null,
      "outputs": []
    }
  ],
  "metadata": {
    "language_info": {
      "name": "python"
    },
    "colab": {
      "provenance": [],
      "cell_execution_strategy": "setup"
    },
    "kernelspec": {
      "name": "python3",
      "display_name": "Python 3"
    }
  },
  "nbformat": 4,
  "nbformat_minor": 0
}